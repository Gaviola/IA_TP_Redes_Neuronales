{
 "nbformat": 4,
 "nbformat_minor": 0,
 "metadata": {
  "colab": {
   "provenance": [],
   "gpuType": "T4"
  },
  "kernelspec": {
   "name": "python3",
   "display_name": "Python 3 (ipykernel)",
   "language": "python"
  },
  "language_info": {
   "name": "python"
  },
  "accelerator": "GPU"
 },
 "cells": [
  {
   "cell_type": "code",
   "source": [
    "import numpy\n",
    "import numpy as np\n",
    "import tensorflow as tf\n",
    "from tensorflow import keras\n",
    "from keras.datasets import imdb\n",
    "from tensorflow.keras import layers\n",
    "import matplotlib.pyplot as plt"
   ],
   "metadata": {
    "id": "DoaLnJQp961C",
    "ExecuteTime": {
     "end_time": "2024-08-28T13:45:30.015155Z",
     "start_time": "2024-08-28T13:45:30.012317Z"
    }
   },
   "outputs": [],
   "execution_count": 45
  },
  {
   "cell_type": "markdown",
   "source": [
    "# Parte 1: Introducción"
   ],
   "metadata": {
    "id": "GBz5BAKoVwAv"
   }
  },
  {
   "cell_type": "markdown",
   "metadata": {
    "id": "ZIyMzJmXpDdH"
   },
   "source": [
    "### Ejercicio 1\n",
    "Generar un tensor llamado **x** cuyo contenido sea el siguiente:\n",
    "\n",
    "![Imgur](https://i.imgur.com/rfaKGUG.png)"
   ]
  },
  {
   "cell_type": "code",
   "metadata": {
    "id": "A5cbS3G9nQyg",
    "ExecuteTime": {
     "end_time": "2024-08-27T23:23:49.737097Z",
     "start_time": "2024-08-27T23:23:49.733382Z"
    }
   },
   "source": [
    "x = tf.reshape(tf.range(0,60,2), (2, 3, 5))\n",
    "print(x)"
   ],
   "outputs": [
    {
     "name": "stdout",
     "output_type": "stream",
     "text": [
      "tf.Tensor(\n",
      "[[[ 0  2  4  6  8]\n",
      "  [10 12 14 16 18]\n",
      "  [20 22 24 26 28]]\n",
      "\n",
      " [[30 32 34 36 38]\n",
      "  [40 42 44 46 48]\n",
      "  [50 52 54 56 58]]], shape=(2, 3, 5), dtype=int32)\n"
     ]
    }
   ],
   "execution_count": 21
  },
  {
   "cell_type": "markdown",
   "metadata": {
    "id": "dm_PLDM_ov2z"
   },
   "source": [
    "### Ejercicio 2\n",
    "Realizar los cambios necesarios en los siguientes tensores para que sea posible multiplicar cada columna del tensor \"X\" por el vector \"y\"."
   ]
  },
  {
   "cell_type": "code",
   "metadata": {
    "id": "iYigasJnqJDe",
    "ExecuteTime": {
     "end_time": "2024-08-28T01:26:05.326060Z",
     "start_time": "2024-08-28T01:26:05.320111Z"
    }
   },
   "source": [
    "X = tf.ones((2, 4, 5, 3))\n",
    "y = tf.constant([1., 2., 3., 4., 5.])\n",
    "\n",
    "# Code here\n",
    "#(d1,d2,d3,d) = ()\n",
    "X = tf.reshape(X,(3,2,4,5))\n",
    "y = tf.reshape(y,(1,5))\n",
    "print(X.shape)\n",
    "print(y.shape)\n",
    "print(\"Tensor X:\", X)\n",
    "print(\"Tensor y:\", y)\n",
    "\n",
    "print(tf.multiply(X, y))\n",
    "\n"
   ],
   "outputs": [
    {
     "name": "stdout",
     "output_type": "stream",
     "text": [
      "3\n",
      "5\n",
      "Tensor X: tf.Tensor(\n",
      "[[[[1. 1. 1. 1. 1.]\n",
      "   [1. 1. 1. 1. 1.]\n",
      "   [1. 1. 1. 1. 1.]\n",
      "   [1. 1. 1. 1. 1.]]\n",
      "\n",
      "  [[1. 1. 1. 1. 1.]\n",
      "   [1. 1. 1. 1. 1.]\n",
      "   [1. 1. 1. 1. 1.]\n",
      "   [1. 1. 1. 1. 1.]]]\n",
      "\n",
      "\n",
      " [[[1. 1. 1. 1. 1.]\n",
      "   [1. 1. 1. 1. 1.]\n",
      "   [1. 1. 1. 1. 1.]\n",
      "   [1. 1. 1. 1. 1.]]\n",
      "\n",
      "  [[1. 1. 1. 1. 1.]\n",
      "   [1. 1. 1. 1. 1.]\n",
      "   [1. 1. 1. 1. 1.]\n",
      "   [1. 1. 1. 1. 1.]]]\n",
      "\n",
      "\n",
      " [[[1. 1. 1. 1. 1.]\n",
      "   [1. 1. 1. 1. 1.]\n",
      "   [1. 1. 1. 1. 1.]\n",
      "   [1. 1. 1. 1. 1.]]\n",
      "\n",
      "  [[1. 1. 1. 1. 1.]\n",
      "   [1. 1. 1. 1. 1.]\n",
      "   [1. 1. 1. 1. 1.]\n",
      "   [1. 1. 1. 1. 1.]]]], shape=(3, 2, 4, 5), dtype=float32)\n",
      "Tensor y: tf.Tensor([[1. 2. 3. 4. 5.]], shape=(1, 5), dtype=float32)\n",
      "tf.Tensor(\n",
      "[[[[1. 2. 3. 4. 5.]\n",
      "   [1. 2. 3. 4. 5.]\n",
      "   [1. 2. 3. 4. 5.]\n",
      "   [1. 2. 3. 4. 5.]]\n",
      "\n",
      "  [[1. 2. 3. 4. 5.]\n",
      "   [1. 2. 3. 4. 5.]\n",
      "   [1. 2. 3. 4. 5.]\n",
      "   [1. 2. 3. 4. 5.]]]\n",
      "\n",
      "\n",
      " [[[1. 2. 3. 4. 5.]\n",
      "   [1. 2. 3. 4. 5.]\n",
      "   [1. 2. 3. 4. 5.]\n",
      "   [1. 2. 3. 4. 5.]]\n",
      "\n",
      "  [[1. 2. 3. 4. 5.]\n",
      "   [1. 2. 3. 4. 5.]\n",
      "   [1. 2. 3. 4. 5.]\n",
      "   [1. 2. 3. 4. 5.]]]\n",
      "\n",
      "\n",
      " [[[1. 2. 3. 4. 5.]\n",
      "   [1. 2. 3. 4. 5.]\n",
      "   [1. 2. 3. 4. 5.]\n",
      "   [1. 2. 3. 4. 5.]]\n",
      "\n",
      "  [[1. 2. 3. 4. 5.]\n",
      "   [1. 2. 3. 4. 5.]\n",
      "   [1. 2. 3. 4. 5.]\n",
      "   [1. 2. 3. 4. 5.]]]], shape=(3, 2, 4, 5), dtype=float32)\n"
     ]
    }
   ],
   "execution_count": 39
  },
  {
   "metadata": {},
   "cell_type": "markdown",
   "source": ""
  },
  {
   "cell_type": "markdown",
   "source": [
    "### Ejercicio 3\n",
    "Sobre Tensores, implemente las operaciones Suma, Producto Tensorial y Contraccion Tensorial. Para ello agregue las operaciones tensoriales que sean pertinentes"
   ],
   "metadata": {
    "id": "wyL_f2TRGzSN"
   }
  },
  {
   "cell_type": "code",
   "source": [
    "# Code here\n",
    "#np.einsum('ij,jk->ik', X, y) Puede ser importante para las operaciones tensoriales\n",
    "A = tf.reshape(tf.range(0,12), (2, 3, 2))\n",
    "B = tf.reshape(tf.range(12,24), (2, 3, 2))\n",
    "\n",
    "#print(\"Tensor A:\", A)\n",
    "#print(\"Tensor B:\", B)\n",
    "\n",
    "def suma_tensorial(X,Y):\n",
    "    if X.shape == Y.shape:\n",
    "        return X + Y\n",
    "    else:\n",
    "        print(\"Las dimensiones de los tensores no coinciden\")\n",
    "        return None\n",
    "\n",
    "def broadcast(X,Y):\n",
    "    size_x = len(X.shape)\n",
    "    size_y = len(Y.shape)\n",
    "    Z = np.zeros(size_x)\n",
    "    if size_x > size_y:\n",
    "        pass     \n",
    "    else:\n",
    "        pass\n",
    "\n",
    "\n",
    "#print(suma_tensorial(A,B))\n",
    "\n",
    "def producto_tensorial(X,Y):\n",
    "    Z = tf.zeros(X.shape + Y.shape)\n",
    "    \n",
    "   \n"
   ],
   "metadata": {
    "id": "urXdykPP3x-h",
    "ExecuteTime": {
     "end_time": "2024-08-28T12:52:50.210230Z",
     "start_time": "2024-08-28T12:52:50.203060Z"
    }
   },
   "outputs": [
    {
     "name": "stdout",
     "output_type": "stream",
     "text": [
      "Tensor A: tf.Tensor(\n",
      "[[[ 0  1]\n",
      "  [ 2  3]\n",
      "  [ 4  5]]\n",
      "\n",
      " [[ 6  7]\n",
      "  [ 8  9]\n",
      "  [10 11]]], shape=(2, 3, 2), dtype=int32)\n",
      "Tensor B: tf.Tensor(\n",
      "[[[12 13]\n",
      "  [14 15]\n",
      "  [16 17]]\n",
      "\n",
      " [[18 19]\n",
      "  [20 21]\n",
      "  [22 23]]], shape=(2, 3, 2), dtype=int32)\n",
      "tf.Tensor(\n",
      "[[[12 14]\n",
      "  [16 18]\n",
      "  [20 22]]\n",
      "\n",
      " [[24 26]\n",
      "  [28 30]\n",
      "  [32 34]]], shape=(2, 3, 2), dtype=int32)\n"
     ]
    }
   ],
   "execution_count": 42
  },
  {
   "metadata": {},
   "cell_type": "markdown",
   "source": ""
  },
  {
   "cell_type": "markdown",
   "source": [
    "### Ejercicio 4\n",
    "Descargar y estudiar el dataset de IMDB de Keras (num_words = 10000)\n",
    "Separar el dataset en conjuntos de train y test"
   ],
   "metadata": {
    "id": "dSkCut4H32lE"
   }
  },
  {
   "cell_type": "code",
   "source": [
    "# Code here\n",
    "from keras.datasets import imdb\n",
    "(training_data, training_targets), (testing_data, testing_targets) = imdb.load_data(num_words=10000)"
   ],
   "metadata": {
    "id": "DIczLIn8Hoth",
    "ExecuteTime": {
     "end_time": "2024-08-28T13:52:53.309837Z",
     "start_time": "2024-08-28T13:52:50.522643Z"
    }
   },
   "outputs": [
    {
     "name": "stdout",
     "output_type": "stream",
     "text": [
      "(50000,)\n",
      "(50000,)\n"
     ]
    }
   ],
   "execution_count": 52
  },
  {
   "cell_type": "markdown",
   "source": [
    "# Ejercicio 5\n",
    "Dentro del conjunto de Test extraer el primer review positivo y el primer negativo. Hacer la codificacion back-to-text de cada uno de ellos"
   ],
   "metadata": {
    "id": "kX6albpW4mmk"
   }
  },
  {
   "cell_type": "code",
   "source": [
    "# Code here"
   ],
   "metadata": {
    "id": "Twq7OJui5Pia"
   },
   "execution_count": null,
   "outputs": []
  },
  {
   "cell_type": "markdown",
   "source": [
    "### Ejercicio 6\n",
    "Sin hacer uso de las librerias de Keras, crear una red neuronal feed-forward fully_connected con la siguiente arquitectura: capa de entrada - 16 -16 - capa de salida.\n",
    "(Programar todas las funciones necesarias)\n"
   ],
   "metadata": {
    "id": "YKcgzaui5SsZ"
   }
  },
  {
   "cell_type": "code",
   "source": [
    "# Code here"
   ],
   "metadata": {
    "id": "e8K_z43P7Ckt"
   },
   "execution_count": null,
   "outputs": []
  },
  {
   "cell_type": "markdown",
   "source": [
    "### Ejercicio 7\n",
    "Tomar un lote random de 100 reviews en el conjunto de train y hacer forward por su red neuronal estimando el error para ese lote. Definir la funcion de error pertinente."
   ],
   "metadata": {
    "id": "RP4QnotU7EFK"
   }
  },
  {
   "cell_type": "code",
   "source": [
    "# Code here"
   ],
   "metadata": {
    "id": "xMgbNdbk7uuj"
   },
   "execution_count": null,
   "outputs": []
  },
  {
   "cell_type": "markdown",
   "source": [
    "### Ejercicio 8\n",
    "Usando Keras defina la misma red neuronal anterior"
   ],
   "metadata": {
    "id": "0pgNzr_z73cl"
   }
  },
  {
   "cell_type": "code",
   "source": [
    "# Code here"
   ],
   "metadata": {
    "id": "i4640XN678D0"
   },
   "execution_count": null,
   "outputs": []
  },
  {
   "cell_type": "markdown",
   "source": [
    "### Ejercicio 9\n",
    "Entrene el modelo definido usando un batchs de 512 elementos y 20 epoch. Recuerden generar los conjuntos de validacion y train."
   ],
   "metadata": {
    "id": "ww1WleSn8AJQ"
   }
  },
  {
   "cell_type": "code",
   "source": [
    "# Code here"
   ],
   "metadata": {
    "id": "Gj1DUK377-Qg"
   },
   "execution_count": null,
   "outputs": []
  },
  {
   "cell_type": "markdown",
   "source": [
    "### Ejercicio 10\n",
    "Plotear las curvas de **Training vs Validation Loss** con la loss por cada epochs\n",
    "Plotear las curvas de **Training vs Validation Accuracy** con el accuracy por cada epochs\n",
    "\n",
    "Haga un resumen con las conclusiones observadas en ambas graficas"
   ],
   "metadata": {
    "id": "wxZEiARD9dao"
   }
  },
  {
   "cell_type": "code",
   "source": [
    "# Code here"
   ],
   "metadata": {
    "id": "9miq1vlI-K0o"
   },
   "execution_count": null,
   "outputs": []
  }
 ]
}
