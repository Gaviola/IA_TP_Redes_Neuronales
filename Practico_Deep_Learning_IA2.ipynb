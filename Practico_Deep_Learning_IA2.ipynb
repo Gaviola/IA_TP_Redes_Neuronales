{
 "nbformat": 4,
 "nbformat_minor": 0,
 "metadata": {
  "colab": {
   "provenance": [],
   "gpuType": "T4"
  },
  "kernelspec": {
   "name": "python3",
   "display_name": "Python 3 (ipykernel)",
   "language": "python"
  },
  "language_info": {
   "name": "python"
  },
  "accelerator": "GPU"
 },
 "cells": [
  {
   "cell_type": "code",
   "source": [
    "import numpy\n",
    "import numpy as np\n",
    "import tensorflow as tf\n",
    "from tensorflow import keras\n",
    "from keras.datasets import imdb\n",
    "from tensorflow.keras import layers\n",
    "import matplotlib.pyplot as plt"
   ],
   "metadata": {
    "id": "DoaLnJQp961C",
    "ExecuteTime": {
     "end_time": "2024-08-29T16:39:21.226812Z",
     "start_time": "2024-08-29T16:39:21.223166Z"
    }
   },
   "outputs": [],
   "execution_count": 22
  },
  {
   "cell_type": "markdown",
   "source": [
    "# Parte 1: Introducción"
   ],
   "metadata": {
    "id": "GBz5BAKoVwAv"
   }
  },
  {
   "cell_type": "markdown",
   "metadata": {
    "id": "ZIyMzJmXpDdH"
   },
   "source": [
    "### Ejercicio 1\n",
    "Generar un tensor llamado **x** cuyo contenido sea el siguiente:\n",
    "\n",
    "![Imgur](https://i.imgur.com/rfaKGUG.png)"
   ]
  },
  {
   "cell_type": "code",
   "metadata": {
    "id": "A5cbS3G9nQyg",
    "ExecuteTime": {
     "end_time": "2024-08-27T23:23:49.737097Z",
     "start_time": "2024-08-27T23:23:49.733382Z"
    }
   },
   "source": [
    "x = tf.reshape(tf.range(0,60,2), (2, 3, 5))\n",
    "print(x)"
   ],
   "outputs": [
    {
     "name": "stdout",
     "output_type": "stream",
     "text": [
      "tf.Tensor(\n",
      "[[[ 0  2  4  6  8]\n",
      "  [10 12 14 16 18]\n",
      "  [20 22 24 26 28]]\n",
      "\n",
      " [[30 32 34 36 38]\n",
      "  [40 42 44 46 48]\n",
      "  [50 52 54 56 58]]], shape=(2, 3, 5), dtype=int32)\n"
     ]
    }
   ],
   "execution_count": 21
  },
  {
   "cell_type": "markdown",
   "metadata": {
    "id": "dm_PLDM_ov2z"
   },
   "source": [
    "### Ejercicio 2\n",
    "Realizar los cambios necesarios en los siguientes tensores para que sea posible multiplicar cada columna del tensor \"X\" por el vector \"y\"."
   ]
  },
  {
   "cell_type": "code",
   "metadata": {
    "id": "iYigasJnqJDe",
    "ExecuteTime": {
     "end_time": "2024-08-28T01:26:05.326060Z",
     "start_time": "2024-08-28T01:26:05.320111Z"
    }
   },
   "source": [
    "X = tf.ones((2, 4, 5, 3))\n",
    "y = tf.constant([1., 2., 3., 4., 5.])\n",
    "\n",
    "# Code here\n",
    "#(d1,d2,d3,d) = ()\n",
    "X = tf.reshape(X,(3,2,4,5))\n",
    "y = tf.reshape(y,(1,5))\n",
    "print(X.shape)\n",
    "print(y.shape)\n",
    "print(\"Tensor X:\", X)\n",
    "print(\"Tensor y:\", y)\n",
    "\n",
    "print(tf.multiply(X, y))\n",
    "\n"
   ],
   "outputs": [
    {
     "name": "stdout",
     "output_type": "stream",
     "text": [
      "3\n",
      "5\n",
      "Tensor X: tf.Tensor(\n",
      "[[[[1. 1. 1. 1. 1.]\n",
      "   [1. 1. 1. 1. 1.]\n",
      "   [1. 1. 1. 1. 1.]\n",
      "   [1. 1. 1. 1. 1.]]\n",
      "\n",
      "  [[1. 1. 1. 1. 1.]\n",
      "   [1. 1. 1. 1. 1.]\n",
      "   [1. 1. 1. 1. 1.]\n",
      "   [1. 1. 1. 1. 1.]]]\n",
      "\n",
      "\n",
      " [[[1. 1. 1. 1. 1.]\n",
      "   [1. 1. 1. 1. 1.]\n",
      "   [1. 1. 1. 1. 1.]\n",
      "   [1. 1. 1. 1. 1.]]\n",
      "\n",
      "  [[1. 1. 1. 1. 1.]\n",
      "   [1. 1. 1. 1. 1.]\n",
      "   [1. 1. 1. 1. 1.]\n",
      "   [1. 1. 1. 1. 1.]]]\n",
      "\n",
      "\n",
      " [[[1. 1. 1. 1. 1.]\n",
      "   [1. 1. 1. 1. 1.]\n",
      "   [1. 1. 1. 1. 1.]\n",
      "   [1. 1. 1. 1. 1.]]\n",
      "\n",
      "  [[1. 1. 1. 1. 1.]\n",
      "   [1. 1. 1. 1. 1.]\n",
      "   [1. 1. 1. 1. 1.]\n",
      "   [1. 1. 1. 1. 1.]]]], shape=(3, 2, 4, 5), dtype=float32)\n",
      "Tensor y: tf.Tensor([[1. 2. 3. 4. 5.]], shape=(1, 5), dtype=float32)\n",
      "tf.Tensor(\n",
      "[[[[1. 2. 3. 4. 5.]\n",
      "   [1. 2. 3. 4. 5.]\n",
      "   [1. 2. 3. 4. 5.]\n",
      "   [1. 2. 3. 4. 5.]]\n",
      "\n",
      "  [[1. 2. 3. 4. 5.]\n",
      "   [1. 2. 3. 4. 5.]\n",
      "   [1. 2. 3. 4. 5.]\n",
      "   [1. 2. 3. 4. 5.]]]\n",
      "\n",
      "\n",
      " [[[1. 2. 3. 4. 5.]\n",
      "   [1. 2. 3. 4. 5.]\n",
      "   [1. 2. 3. 4. 5.]\n",
      "   [1. 2. 3. 4. 5.]]\n",
      "\n",
      "  [[1. 2. 3. 4. 5.]\n",
      "   [1. 2. 3. 4. 5.]\n",
      "   [1. 2. 3. 4. 5.]\n",
      "   [1. 2. 3. 4. 5.]]]\n",
      "\n",
      "\n",
      " [[[1. 2. 3. 4. 5.]\n",
      "   [1. 2. 3. 4. 5.]\n",
      "   [1. 2. 3. 4. 5.]\n",
      "   [1. 2. 3. 4. 5.]]\n",
      "\n",
      "  [[1. 2. 3. 4. 5.]\n",
      "   [1. 2. 3. 4. 5.]\n",
      "   [1. 2. 3. 4. 5.]\n",
      "   [1. 2. 3. 4. 5.]]]], shape=(3, 2, 4, 5), dtype=float32)\n"
     ]
    }
   ],
   "execution_count": 39
  },
  {
   "metadata": {},
   "cell_type": "markdown",
   "source": ""
  },
  {
   "cell_type": "markdown",
   "source": [
    "### Ejercicio 3\n",
    "Sobre Tensores, implemente las operaciones Suma, Producto Tensorial y Contraccion Tensorial. Para ello agregue las operaciones tensoriales que sean pertinentes"
   ],
   "metadata": {
    "id": "wyL_f2TRGzSN"
   }
  },
  {
   "cell_type": "code",
   "source": [
    "# Code here\n",
    "#np.einsum('ij,jk->ik', X, y) Puede ser importante para las operaciones tensoriales\n",
    "A = tf.reshape(tf.range(0,12), (2, 3, 2))\n",
    "B = tf.reshape(tf.range(12,24), (2, 3, 2))\n",
    "\n",
    "#print(\"Tensor A:\", A)\n",
    "#print(\"Tensor B:\", B)\n",
    "\n",
    "def suma_tensorial(X,Y):\n",
    "    if X.shape == Y.shape:\n",
    "        return X + Y\n",
    "    else:\n",
    "        print(\"Las dimensiones de los tensores no coinciden\")\n",
    "        return None\n",
    "\n",
    "def broadcast(X,Y):\n",
    "    size_x = len(X.shape)\n",
    "    size_y = len(Y.shape)\n",
    "    \n",
    "    if size_x > size_y:\n",
    "        for dim in Y.shape:\n",
    "            pass\n",
    "\n",
    "\n",
    "#print(suma_tensorial(A,B))\n",
    "\n",
    "def producto_tensorial(a, b):\n",
    "    # Calculamos la nueva forma del tensor resultante\n",
    "    new_shape = a.shape + b.shape\n",
    "    \n",
    "    # Usamos einsum para calcular el producto tensorial\n",
    "    result = np.einsum('...i,...j->...ij', a, b).reshape(new_shape)\n",
    "    \n",
    "    return result\n",
    "\n",
    "T = np.random.randint(0, 10, (2, 2))\n",
    "print(\"Tensor T:\", T)\n",
    "G = np.random.randint(0, 10, (2, 2))\n",
    "print(\"Tensor G:\", G)\n",
    "print(\"Producto tensorial de T y G:\")\n",
    "print(producto_tensorial(T, G))\n"
   ],
   "metadata": {
    "id": "urXdykPP3x-h",
    "ExecuteTime": {
     "end_time": "2024-08-29T01:18:31.320540Z",
     "start_time": "2024-08-29T01:18:31.297621Z"
    }
   },
   "outputs": [
    {
     "name": "stdout",
     "output_type": "stream",
     "text": [
      "Tensor T: [[5 6]\n",
      " [3 4]]\n",
      "Tensor G: [[5 2]\n",
      " [6 6]]\n",
      "Producto tensorial de T y G:\n"
     ]
    },
    {
     "ename": "ValueError",
     "evalue": "cannot reshape array of size 8 into shape (2,2,2,2)",
     "output_type": "error",
     "traceback": [
      "\u001B[1;31m---------------------------------------------------------------------------\u001B[0m",
      "\u001B[1;31mValueError\u001B[0m                                Traceback (most recent call last)",
      "Cell \u001B[1;32mIn[18], line 42\u001B[0m\n\u001B[0;32m     40\u001B[0m \u001B[38;5;28mprint\u001B[39m(\u001B[38;5;124m\"\u001B[39m\u001B[38;5;124mTensor G:\u001B[39m\u001B[38;5;124m\"\u001B[39m, G)\n\u001B[0;32m     41\u001B[0m \u001B[38;5;28mprint\u001B[39m(\u001B[38;5;124m\"\u001B[39m\u001B[38;5;124mProducto tensorial de T y G:\u001B[39m\u001B[38;5;124m\"\u001B[39m)\n\u001B[1;32m---> 42\u001B[0m \u001B[38;5;28mprint\u001B[39m(producto_tensorial(T, G))\n",
      "Cell \u001B[1;32mIn[18], line 33\u001B[0m, in \u001B[0;36mproducto_tensorial\u001B[1;34m(a, b)\u001B[0m\n\u001B[0;32m     30\u001B[0m new_shape \u001B[38;5;241m=\u001B[39m a\u001B[38;5;241m.\u001B[39mshape \u001B[38;5;241m+\u001B[39m b\u001B[38;5;241m.\u001B[39mshape\n\u001B[0;32m     32\u001B[0m \u001B[38;5;66;03m# Usamos einsum para calcular el producto tensorial\u001B[39;00m\n\u001B[1;32m---> 33\u001B[0m result \u001B[38;5;241m=\u001B[39m np\u001B[38;5;241m.\u001B[39meinsum(\u001B[38;5;124m'\u001B[39m\u001B[38;5;124m...i,...j->...ij\u001B[39m\u001B[38;5;124m'\u001B[39m, a, b)\u001B[38;5;241m.\u001B[39mreshape(new_shape)\n\u001B[0;32m     35\u001B[0m \u001B[38;5;28;01mreturn\u001B[39;00m result\n",
      "\u001B[1;31mValueError\u001B[0m: cannot reshape array of size 8 into shape (2,2,2,2)"
     ]
    }
   ],
   "execution_count": 18
  },
  {
   "metadata": {},
   "cell_type": "markdown",
   "source": ""
  },
  {
   "cell_type": "markdown",
   "source": [
    "### Ejercicio 4\n",
    "Descargar y estudiar el dataset de IMDB de Keras (num_words = 10000)\n",
    "Separar el dataset en conjuntos de train y test"
   ],
   "metadata": {
    "id": "dSkCut4H32lE"
   }
  },
  {
   "cell_type": "code",
   "source": [
    "# Code here\n",
    "from keras.datasets import imdb\n",
    "(training_data, training_targets), (testing_data, testing_targets) = imdb.load_data(num_words=10000)\n",
    "print(training_data.shape)\n",
    "print(training_targets.shape)\n",
    "print(testing_data.shape)\n",
    "print(testing_targets.shape)"
   ],
   "metadata": {
    "id": "DIczLIn8Hoth",
    "ExecuteTime": {
     "end_time": "2024-08-29T01:49:44.667143Z",
     "start_time": "2024-08-29T01:47:40.143297Z"
    }
   },
   "outputs": [
    {
     "ename": "KeyboardInterrupt",
     "evalue": "",
     "output_type": "error",
     "traceback": [
      "\u001B[1;31m---------------------------------------------------------------------------\u001B[0m",
      "\u001B[1;31mKeyboardInterrupt\u001B[0m                         Traceback (most recent call last)",
      "Cell \u001B[1;32mIn[3], line 4\u001B[0m\n\u001B[0;32m      2\u001B[0m \u001B[38;5;28;01mfrom\u001B[39;00m \u001B[38;5;21;01mkeras\u001B[39;00m\u001B[38;5;21;01m.\u001B[39;00m\u001B[38;5;21;01mdatasets\u001B[39;00m \u001B[38;5;28;01mimport\u001B[39;00m imdb\n\u001B[0;32m      3\u001B[0m (training_data, training_targets), (testing_data, testing_targets) \u001B[38;5;241m=\u001B[39m imdb\u001B[38;5;241m.\u001B[39mload_data(num_words\u001B[38;5;241m=\u001B[39m\u001B[38;5;241m10000\u001B[39m)\n\u001B[1;32m----> 4\u001B[0m \u001B[38;5;28mprint\u001B[39m(training_data\u001B[38;5;241m.\u001B[39mshape)\n\u001B[0;32m      5\u001B[0m \u001B[38;5;28mprint\u001B[39m(training_targets\u001B[38;5;241m.\u001B[39mshape)\n\u001B[0;32m      6\u001B[0m \u001B[38;5;28mprint\u001B[39m(testing_data\u001B[38;5;241m.\u001B[39mshape)\n",
      "File \u001B[1;32m_pydevd_bundle\\\\pydevd_cython_win32_312_64.pyx:1187\u001B[0m, in \u001B[0;36m_pydevd_bundle.pydevd_cython_win32_312_64.SafeCallWrapper.__call__\u001B[1;34m()\u001B[0m\n",
      "File \u001B[1;32m_pydevd_bundle\\\\pydevd_cython_win32_312_64.pyx:627\u001B[0m, in \u001B[0;36m_pydevd_bundle.pydevd_cython_win32_312_64.PyDBFrame.trace_dispatch\u001B[1;34m()\u001B[0m\n",
      "File \u001B[1;32m_pydevd_bundle\\\\pydevd_cython_win32_312_64.pyx:937\u001B[0m, in \u001B[0;36m_pydevd_bundle.pydevd_cython_win32_312_64.PyDBFrame.trace_dispatch\u001B[1;34m()\u001B[0m\n",
      "File \u001B[1;32m_pydevd_bundle\\\\pydevd_cython_win32_312_64.pyx:928\u001B[0m, in \u001B[0;36m_pydevd_bundle.pydevd_cython_win32_312_64.PyDBFrame.trace_dispatch\u001B[1;34m()\u001B[0m\n",
      "File \u001B[1;32m_pydevd_bundle\\\\pydevd_cython_win32_312_64.pyx:585\u001B[0m, in \u001B[0;36m_pydevd_bundle.pydevd_cython_win32_312_64.PyDBFrame.do_wait_suspend\u001B[1;34m()\u001B[0m\n",
      "File \u001B[1;32m~\\AppData\\Local\\Programs\\PyCharm Professional\\plugins\\python\\helpers\\pydev\\pydevd.py:1201\u001B[0m, in \u001B[0;36mPyDB.do_wait_suspend\u001B[1;34m(self, thread, frame, event, arg, send_suspend_message, is_unhandled_exception)\u001B[0m\n\u001B[0;32m   1198\u001B[0m         from_this_thread\u001B[38;5;241m.\u001B[39mappend(frame_id)\n\u001B[0;32m   1200\u001B[0m \u001B[38;5;28;01mwith\u001B[39;00m \u001B[38;5;28mself\u001B[39m\u001B[38;5;241m.\u001B[39m_threads_suspended_single_notification\u001B[38;5;241m.\u001B[39mnotify_thread_suspended(thread_id, stop_reason):\n\u001B[1;32m-> 1201\u001B[0m     \u001B[38;5;28mself\u001B[39m\u001B[38;5;241m.\u001B[39m_do_wait_suspend(thread, frame, event, arg, suspend_type, from_this_thread)\n",
      "File \u001B[1;32m~\\AppData\\Local\\Programs\\PyCharm Professional\\plugins\\python\\helpers\\pydev\\pydevd.py:1216\u001B[0m, in \u001B[0;36mPyDB._do_wait_suspend\u001B[1;34m(self, thread, frame, event, arg, suspend_type, from_this_thread)\u001B[0m\n\u001B[0;32m   1213\u001B[0m             \u001B[38;5;28mself\u001B[39m\u001B[38;5;241m.\u001B[39m_call_mpl_hook()\n\u001B[0;32m   1215\u001B[0m         \u001B[38;5;28mself\u001B[39m\u001B[38;5;241m.\u001B[39mprocess_internal_commands()\n\u001B[1;32m-> 1216\u001B[0m         time\u001B[38;5;241m.\u001B[39msleep(\u001B[38;5;241m0.01\u001B[39m)\n\u001B[0;32m   1218\u001B[0m \u001B[38;5;28mself\u001B[39m\u001B[38;5;241m.\u001B[39mcancel_async_evaluation(get_current_thread_id(thread), \u001B[38;5;28mstr\u001B[39m(\u001B[38;5;28mid\u001B[39m(frame)))\n\u001B[0;32m   1220\u001B[0m \u001B[38;5;66;03m# process any stepping instructions\u001B[39;00m\n",
      "\u001B[1;31mKeyboardInterrupt\u001B[0m: "
     ]
    }
   ],
   "execution_count": 3
  },
  {
   "cell_type": "markdown",
   "source": [
    "# Ejercicio 5\n",
    "Dentro del conjunto de Test extraer el primer review positivo y el primer negativo. Hacer la codificacion back-to-text de cada uno de ellos"
   ],
   "metadata": {
    "id": "kX6albpW4mmk"
   }
  },
  {
   "cell_type": "code",
   "source": [
    "# Code here\n",
    "word_index = imdb.get_word_index()\n",
    "reverse_word_index = dict([(value, key) for (key, value) in word_index.items()])\n",
    "find_neg = False\n",
    "find_pos = False\n",
    "i = 0\n",
    "pos_index = -1\n",
    "neg_index = -1\n",
    "while not(find_neg and find_pos):\n",
    "    if testing_targets[i] == 1 and not find_pos:\n",
    "        find_pos = True\n",
    "        pos_index = i\n",
    "    if testing_targets[i] == 0 and not find_neg:\n",
    "        find_neg = True\n",
    "        neg_index = i\n",
    "    i += 1\n",
    "        \n",
    "decoded_review_pos = ' '.join([reverse_word_index.get(i - 3, '?') for i in testing_data[pos_index]])\n",
    "decoded_review_neg = ' '.join([reverse_word_index.get(i - 3, '?') for i in testing_data[neg_index]])\n",
    "print(\"Review Positivo:\\n\")\n",
    "print(decoded_review_pos)\n",
    "print(\"-\"*150)\n",
    "print(\"Review Negativo:\\n\")\n",
    "print(decoded_review_neg)\n",
    "\n"
   ],
   "metadata": {
    "id": "Twq7OJui5Pia",
    "ExecuteTime": {
     "end_time": "2024-08-29T16:46:43.846231Z",
     "start_time": "2024-08-29T16:46:43.806680Z"
    }
   },
   "outputs": [
    {
     "name": "stdout",
     "output_type": "stream",
     "text": [
      "Review Positivo:\n",
      "\n",
      "? this film requires a lot of patience because it focuses on mood and character development the plot is very simple and many of the scenes take place on the same set in frances ? the sandy dennis character apartment but the film builds to a disturbing climax br br the characters create an atmosphere ? with sexual tension and psychological ? it's very interesting that robert altman directed this considering the style and structure of his other films still the trademark altman audio style is evident here and there i think what really makes this film work is the brilliant performance by sandy dennis it's definitely one of her darker characters but she plays it so perfectly and convincingly that it's scary michael burns does a good job as the mute young man regular altman player michael murphy has a small part the ? moody set fits the content of the story very well in short this movie is a powerful study of loneliness sexual ? and desperation be patient ? up the atmosphere and pay attention to the wonderfully written script br br i praise robert altman this is one of his many films that deals with unconventional fascinating subject matter this film is disturbing but it's sincere and it's sure to ? a strong emotional response from the viewer if you want to see an unusual film some might even say bizarre this is worth the time br br unfortunately it's very difficult to find in video stores you may have to buy it off the internet\n",
      "------------------------------------------------------------------------------------------------------------------------------------------------------\n",
      "Review Negativo:\n",
      "\n",
      "? please give this one a miss br br ? ? and the rest of the cast rendered terrible performances the show is flat flat flat br br i don't know how michael madison could have allowed this one on his plate he almost seemed to know this wasn't going to work out and his performance was quite ? so all you madison fans give this a miss\n"
     ]
    }
   ],
   "execution_count": 28
  },
  {
   "cell_type": "markdown",
   "source": [
    "### Ejercicio 6\n",
    "Sin hacer uso de las librerias de Keras, crear una red neuronal feed-forward fully_connected con la siguiente arquitectura: capa de entrada - 16 -16 - capa de salida.\n",
    "(Programar todas las funciones necesarias)\n"
   ],
   "metadata": {
    "id": "YKcgzaui5SsZ"
   }
  },
  {
   "cell_type": "code",
   "source": "# Code here\n",
   "metadata": {
    "id": "e8K_z43P7Ckt"
   },
   "execution_count": null,
   "outputs": []
  },
  {
   "cell_type": "markdown",
   "source": [
    "### Ejercicio 7\n",
    "Tomar un lote random de 100 reviews en el conjunto de train y hacer forward por su red neuronal estimando el error para ese lote. Definir la funcion de error pertinente."
   ],
   "metadata": {
    "id": "RP4QnotU7EFK"
   }
  },
  {
   "cell_type": "code",
   "source": [
    "# Code here"
   ],
   "metadata": {
    "id": "xMgbNdbk7uuj"
   },
   "execution_count": null,
   "outputs": []
  },
  {
   "cell_type": "markdown",
   "source": [
    "### Ejercicio 8\n",
    "Usando Keras defina la misma red neuronal anterior"
   ],
   "metadata": {
    "id": "0pgNzr_z73cl"
   }
  },
  {
   "cell_type": "code",
   "source": [
    "# Code here"
   ],
   "metadata": {
    "id": "i4640XN678D0"
   },
   "execution_count": null,
   "outputs": []
  },
  {
   "cell_type": "markdown",
   "source": [
    "### Ejercicio 9\n",
    "Entrene el modelo definido usando un batchs de 512 elementos y 20 epoch. Recuerden generar los conjuntos de validacion y train."
   ],
   "metadata": {
    "id": "ww1WleSn8AJQ"
   }
  },
  {
   "cell_type": "code",
   "source": [
    "# Code here"
   ],
   "metadata": {
    "id": "Gj1DUK377-Qg"
   },
   "execution_count": null,
   "outputs": []
  },
  {
   "cell_type": "markdown",
   "source": [
    "### Ejercicio 10\n",
    "Plotear las curvas de **Training vs Validation Loss** con la loss por cada epochs\n",
    "Plotear las curvas de **Training vs Validation Accuracy** con el accuracy por cada epochs\n",
    "\n",
    "Haga un resumen con las conclusiones observadas en ambas graficas"
   ],
   "metadata": {
    "id": "wxZEiARD9dao"
   }
  },
  {
   "cell_type": "code",
   "source": [
    "# Code here"
   ],
   "metadata": {
    "id": "9miq1vlI-K0o"
   },
   "execution_count": null,
   "outputs": []
  }
 ]
}
